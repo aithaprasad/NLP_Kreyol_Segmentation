{
  "nbformat": 4,
  "nbformat_minor": 0,
  "metadata": {
    "colab": {
      "provenance": [],
      "collapsed_sections": [],
      "authorship_tag": "ABX9TyPB+jhygLGyS9UGdsWFEffG",
      "include_colab_link": true
    },
    "kernelspec": {
      "name": "python3",
      "display_name": "Python 3"
    },
    "language_info": {
      "name": "python"
    }
  },
  "cells": [
    {
      "cell_type": "markdown",
      "metadata": {
        "id": "view-in-github",
        "colab_type": "text"
      },
      "source": [
        "<a href=\"https://colab.research.google.com/github/aithaprasad/NLP_Kreyol_Segmentation/blob/main/Kreyol_With_HMM_Supervised.ipynb\" target=\"_parent\"><img src=\"https://colab.research.google.com/assets/colab-badge.svg\" alt=\"Open In Colab\"/></a>"
      ]
    },
    {
      "cell_type": "code",
      "execution_count": 1,
      "metadata": {
        "id": "Mjr_rHpY8X8o"
      },
      "outputs": [],
      "source": [
        "import csv\n",
        "with open('kreyol_segmentation_train.tsv', encoding=\"utf-8\") as file:\n",
        "  f = csv.reader(file, delimiter=\"\\t\")\n",
        "  train_data = []\n",
        "  for line in f:\n",
        "    train_data.append(line)"
      ]
    },
    {
      "cell_type": "code",
      "source": [
        "train_data\n",
        "print(len(train_data))"
      ],
      "metadata": {
        "colab": {
          "base_uri": "https://localhost:8080/"
        },
        "id": "lejHkDXjEgJU",
        "outputId": "2ba49b22-c947-44ec-b744-463a36641fcd"
      },
      "execution_count": 2,
      "outputs": [
        {
          "output_type": "stream",
          "name": "stdout",
          "text": [
            "12812\n"
          ]
        }
      ]
    },
    {
      "cell_type": "code",
      "source": [
        "res = []\n",
        "for word_division in train_data:\n",
        "  split_word = word_division[1].split('-')\n",
        "  temp = []\n",
        "  for letter in split_word:\n",
        "    temp.append((letter[0], 'B'))\n",
        "    if len(letter) > 1:\n",
        "      for item in letter[1:]:\n",
        "        temp.append((item, 'I'))\n",
        "  res.append(temp)"
      ],
      "metadata": {
        "id": "phvxrH5M9dex"
      },
      "execution_count": 3,
      "outputs": []
    },
    {
      "cell_type": "code",
      "source": [
        "res[0]"
      ],
      "metadata": {
        "colab": {
          "base_uri": "https://localhost:8080/"
        },
        "id": "dLvvzVhmmXUL",
        "outputId": "a3770f7f-5141-4875-8c4e-79d419ea3c4b"
      },
      "execution_count": 4,
      "outputs": [
        {
          "output_type": "execute_result",
          "data": {
            "text/plain": [
              "[('k', 'B'),\n",
              " ('o', 'B'),\n",
              " ('n', 'I'),\n",
              " ('s', 'B'),\n",
              " ('i', 'B'),\n",
              " ('l', 'B'),\n",
              " ('t', 'B'),\n",
              " ('a', 'B'),\n",
              " ('n', 'I')]"
            ]
          },
          "metadata": {},
          "execution_count": 4
        }
      ]
    },
    {
      "cell_type": "code",
      "source": [
        "letter_tag_count = dict()\n",
        "B_count, I_count = 0, 0 \n",
        "unique_letters = []\n",
        "for train in res:\n",
        "  for letter_tag in train:\n",
        "    letter, tag = letter_tag[0], letter_tag[1]\n",
        "    \n",
        "    if tag == 'B': B_count += 1\n",
        "    else: I_count += 1\n",
        "\n",
        "    if letter not in letter_tag_count:\n",
        "      letter_tag_count[letter] = {tag : 1}\n",
        "      unique_letters.append(letter)\n",
        "    else:\n",
        "      if tag not in letter_tag_count[letter]: letter_tag_count[letter][tag] = 1\n",
        "      else: letter_tag_count[letter][tag] += 1"
      ],
      "metadata": {
        "id": "SzvghbL88xld"
      },
      "execution_count": 5,
      "outputs": []
    },
    {
      "cell_type": "code",
      "source": [
        "print(len(letter_tag_count))\n",
        "print(len(unique_letters))\n",
        "print(B_count)\n",
        "print(I_count)"
      ],
      "metadata": {
        "colab": {
          "base_uri": "https://localhost:8080/"
        },
        "id": "etVUXcG69MSA",
        "outputId": "26b884f7-dbf8-4a5a-b15f-c7ce717bc86e"
      },
      "execution_count": 6,
      "outputs": [
        {
          "output_type": "stream",
          "name": "stdout",
          "text": [
            "51\n",
            "51\n",
            "79696\n",
            "7608\n"
          ]
        }
      ]
    },
    {
      "cell_type": "code",
      "source": [
        "total_count_per_tag = {'B' : B_count, 'I': I_count}\n",
        "for letter in unique_letters:\n",
        "  new_dict = {'B' : 0, 'I': 0}\n",
        "  tags = ['B', 'I']\n",
        "  for tag in tags:\n",
        "    if tag in letter_tag_count[letter]:\n",
        "      new_dict[tag] = letter_tag_count[letter][tag] / total_count_per_tag[tag] \n",
        "  letter_tag_count[letter] = new_dict"
      ],
      "metadata": {
        "id": "KWAjRv2WAOb8"
      },
      "execution_count": 7,
      "outputs": []
    },
    {
      "cell_type": "code",
      "source": [
        "word_context_tag_count = {'B' : {'B': 0, 'I': 0}, 'I' : {'B': 0, 'I': 0}}\n",
        "\n",
        "for i in range(1, len(res)):\n",
        "  for j in range(len(res[i])):\n",
        "    if j == 0: continue\n",
        "    letter, tag = res[i][j][0], res[i][j][1]\n",
        "    prev_letter, prev_tag = res[i][j - 1][0], res[i][j - 1][1]\n",
        "    word_context_tag_count[prev_tag][tag] += 1"
      ],
      "metadata": {
        "id": "4PEs4ILUBJjy"
      },
      "execution_count": 8,
      "outputs": []
    },
    {
      "cell_type": "code",
      "source": [
        "word_context_tag_count"
      ],
      "metadata": {
        "colab": {
          "base_uri": "https://localhost:8080/"
        },
        "id": "xkKnYEDoBj7Y",
        "outputId": "e08a9730-b1e3-466a-da94-a78b00f3f1b1"
      },
      "execution_count": 9,
      "outputs": [
        {
          "output_type": "execute_result",
          "data": {
            "text/plain": [
              "{'B': {'B': 61975, 'I': 7598}, 'I': {'B': 4903, 'I': 8}}"
            ]
          },
          "metadata": {},
          "execution_count": 9
        }
      ]
    },
    {
      "cell_type": "code",
      "source": [
        "for tag in ['B', 'I']:\n",
        "  total_tag_sum = sum(word_context_tag_count[tag].values())\n",
        "  for next_tag in ['B', 'I']:\n",
        "    word_context_tag_count[tag][next_tag] = (1 + word_context_tag_count[tag][next_tag]) / total_tag_sum"
      ],
      "metadata": {
        "id": "XRLSdfweBnql"
      },
      "execution_count": 10,
      "outputs": []
    },
    {
      "cell_type": "code",
      "source": [
        "word_context_tag_count"
      ],
      "metadata": {
        "colab": {
          "base_uri": "https://localhost:8080/"
        },
        "id": "n_oLJAPFp1MU",
        "outputId": "097695db-2ced-41b2-f0c3-b7d206963525"
      },
      "execution_count": 11,
      "outputs": [
        {
          "output_type": "execute_result",
          "data": {
            "text/plain": [
              "{'B': {'B': 0.8908053411524586, 'I': 0.10922340563149498},\n",
              " 'I': {'B': 0.9985746283852576, 'I': 0.0018326206475259622}}"
            ]
          },
          "metadata": {},
          "execution_count": 11
        }
      ]
    },
    {
      "cell_type": "code",
      "source": [
        "def viterbi(sentence):\n",
        "  state = []\n",
        "  tags = ['B', 'I']\n",
        "  for key, word in enumerate(sentence):\n",
        "    p = []\n",
        "    for tag in tags:\n",
        "      emission_p = 0\n",
        "      if key == 0: transmission_prob = word_context_tag_count['B'][tag]\n",
        "      else: transmission_prob = word_context_tag_count[state[-1]][tag]\n",
        "      if word in letter_tag_count.keys(): emission_p = letter_tag_count[word][tag]\n",
        "  \n",
        "      state_prop = emission_p * transmission_prob\n",
        "      p.append(state_prop)\n",
        "    max_value=max(p)\n",
        "    value=tags[p.index(max_value)]\n",
        "    state.append(value)\n",
        "  return list(zip(sentence, state)), state"
      ],
      "metadata": {
        "id": "29fduqKCB6Vo"
      },
      "execution_count": 12,
      "outputs": []
    },
    {
      "cell_type": "code",
      "source": [
        "viterbi('dechouke')"
      ],
      "metadata": {
        "colab": {
          "base_uri": "https://localhost:8080/"
        },
        "id": "jrpjopzKDGRi",
        "outputId": "e22ed97a-3954-4f61-b9e1-2128a8810610"
      },
      "execution_count": 13,
      "outputs": [
        {
          "output_type": "execute_result",
          "data": {
            "text/plain": [
              "([('d', 'B'),\n",
              "  ('e', 'B'),\n",
              "  ('c', 'B'),\n",
              "  ('h', 'I'),\n",
              "  ('o', 'B'),\n",
              "  ('u', 'I'),\n",
              "  ('k', 'B'),\n",
              "  ('e', 'B')],\n",
              " ['B', 'B', 'B', 'I', 'B', 'I', 'B', 'B'])"
            ]
          },
          "metadata": {},
          "execution_count": 13
        }
      ]
    },
    {
      "cell_type": "code",
      "source": [
        "def get_graphene(word):\n",
        "  b_i_tags = viterbi(word)[1]\n",
        "  ans = [word[0]]\n",
        "  for i in range(1, len(word)):\n",
        "    if b_i_tags[i] == 'B': ans.append('-')\n",
        "    ans.append(word[i])\n",
        "  return \"\".join(ans)"
      ],
      "metadata": {
        "id": "VWl4m3xV3I5R"
      },
      "execution_count": 24,
      "outputs": []
    },
    {
      "cell_type": "code",
      "source": [
        "get_graphene('dechouke')"
      ],
      "metadata": {
        "colab": {
          "base_uri": "https://localhost:8080/",
          "height": 35
        },
        "id": "cgDeE5rD4D7Z",
        "outputId": "b6210f35-80ff-4531-c3c4-d9a432634051"
      },
      "execution_count": 25,
      "outputs": [
        {
          "output_type": "execute_result",
          "data": {
            "text/plain": [
              "'d-e-ch-ou-k-e'"
            ],
            "application/vnd.google.colaboratory.intrinsic+json": {
              "type": "string"
            }
          },
          "metadata": {},
          "execution_count": 25
        }
      ]
    },
    {
      "cell_type": "code",
      "source": [
        "def get_all_graphenes(file):\n",
        "  all_graphenes = []\n",
        "  test_file = open(file, 'r')\n",
        "  for line in test_file:\n",
        "    word = line.rstrip(\"\\n\")\n",
        "    all_graphenes.append([word, get_graphene(word)])\n",
        "  return all_graphenes"
      ],
      "metadata": {
        "id": "yB-R8Fv65c_5"
      },
      "execution_count": 33,
      "outputs": []
    },
    {
      "cell_type": "code",
      "source": [
        "graphenes_test = get_all_graphenes('kreyol_test.txt')"
      ],
      "metadata": {
        "id": "0ZjHpjUP8bWz"
      },
      "execution_count": 34,
      "outputs": []
    },
    {
      "cell_type": "code",
      "source": [
        "graphenes_test[0]"
      ],
      "metadata": {
        "colab": {
          "base_uri": "https://localhost:8080/"
        },
        "id": "kOMe6pk38oNj",
        "outputId": "377a65f9-4767-4ee1-e138-08f0c04affb6"
      },
      "execution_count": 36,
      "outputs": [
        {
          "output_type": "execute_result",
          "data": {
            "text/plain": [
              "['Oradye', 'O-r-a-d-y-e']"
            ]
          },
          "metadata": {},
          "execution_count": 36
        }
      ]
    },
    {
      "cell_type": "code",
      "source": [
        "import csv\n",
        "\n",
        "with open('super_hmm.tsv', 'wt') as out_file:\n",
        "    tsv_writer = csv.writer(out_file, delimiter='\\t')\n",
        "    for graphene in graphenes_test:\n",
        "      tsv_writer.writerow(graphene)"
      ],
      "metadata": {
        "id": "UhMEmnt58pRG"
      },
      "execution_count": 41,
      "outputs": []
    },
    {
      "cell_type": "code",
      "source": [
        "def verify_results(file, num_of_lines):\n",
        "  test_file = open(file, 'r')\n",
        "  total = 0\n",
        "  for line in test_file:\n",
        "    total += 1\n",
        "  return total == num_of_lines"
      ],
      "metadata": {
        "id": "A3OTteLJcuMP"
      },
      "execution_count": 43,
      "outputs": []
    },
    {
      "cell_type": "code",
      "source": [
        "verify_results('super_hmm.tsv', 1427)"
      ],
      "metadata": {
        "colab": {
          "base_uri": "https://localhost:8080/"
        },
        "id": "RYpwEec8c9oA",
        "outputId": "1eed4268-0669-4496-8193-0d6542c9e98c"
      },
      "execution_count": 44,
      "outputs": [
        {
          "output_type": "execute_result",
          "data": {
            "text/plain": [
              "True"
            ]
          },
          "metadata": {},
          "execution_count": 44
        }
      ]
    },
    {
      "cell_type": "code",
      "source": [],
      "metadata": {
        "id": "M7Lx6Jr8dSMI"
      },
      "execution_count": null,
      "outputs": []
    }
  ]
}