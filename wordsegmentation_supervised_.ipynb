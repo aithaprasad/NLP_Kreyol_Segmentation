{
  "nbformat": 4,
  "nbformat_minor": 0,
  "metadata": {
    "colab": {
      "provenance": []
    },
    "kernelspec": {
      "name": "python3",
      "display_name": "Python 3"
    },
    "language_info": {
      "name": "python"
    }
  },
  "cells": [
    {
      "cell_type": "code",
      "execution_count": null,
      "metadata": {
        "colab": {
          "base_uri": "https://localhost:8080/",
          "height": 424
        },
        "id": "Bi64ltgjHJzt",
        "outputId": "299985a4-1813-490d-f95e-55fff6dc0bc2"
      },
      "outputs": [
        {
          "output_type": "execute_result",
          "data": {
            "text/plain": [
              "                  words                     segmentation\n",
              "0             konsiltan                  k-on-s-i-l-t-an\n",
              "1               depotwa                    d-e-p-o-t-w-a\n",
              "2      sosyopwofesyonèl  s-o-s-y-o-p-w-o-f-e-s-y-o-n-è-l\n",
              "3               vejetal                    v-e-j-e-t-a-l\n",
              "4             repibliye                r-e-p-i-b-l-i-y-e\n",
              "...                 ...                              ...\n",
              "12807              Remi                          R-e-m-i\n",
              "12808     diskriminatwa        d-i-s-k-r-i-m-i-n-a-t-w-a\n",
              "12809              rejè                          r-e-j-è\n",
              "12810             manzè                         m-an-z-è\n",
              "12811            trimès                      t-r-i-m-è-s\n",
              "\n",
              "[12812 rows x 2 columns]"
            ],
            "text/html": [
              "\n",
              "  <div id=\"df-28bbc983-9c61-4bd0-8ebf-658d8ab5a468\">\n",
              "    <div class=\"colab-df-container\">\n",
              "      <div>\n",
              "<style scoped>\n",
              "    .dataframe tbody tr th:only-of-type {\n",
              "        vertical-align: middle;\n",
              "    }\n",
              "\n",
              "    .dataframe tbody tr th {\n",
              "        vertical-align: top;\n",
              "    }\n",
              "\n",
              "    .dataframe thead th {\n",
              "        text-align: right;\n",
              "    }\n",
              "</style>\n",
              "<table border=\"1\" class=\"dataframe\">\n",
              "  <thead>\n",
              "    <tr style=\"text-align: right;\">\n",
              "      <th></th>\n",
              "      <th>words</th>\n",
              "      <th>segmentation</th>\n",
              "    </tr>\n",
              "  </thead>\n",
              "  <tbody>\n",
              "    <tr>\n",
              "      <th>0</th>\n",
              "      <td>konsiltan</td>\n",
              "      <td>k-on-s-i-l-t-an</td>\n",
              "    </tr>\n",
              "    <tr>\n",
              "      <th>1</th>\n",
              "      <td>depotwa</td>\n",
              "      <td>d-e-p-o-t-w-a</td>\n",
              "    </tr>\n",
              "    <tr>\n",
              "      <th>2</th>\n",
              "      <td>sosyopwofesyonèl</td>\n",
              "      <td>s-o-s-y-o-p-w-o-f-e-s-y-o-n-è-l</td>\n",
              "    </tr>\n",
              "    <tr>\n",
              "      <th>3</th>\n",
              "      <td>vejetal</td>\n",
              "      <td>v-e-j-e-t-a-l</td>\n",
              "    </tr>\n",
              "    <tr>\n",
              "      <th>4</th>\n",
              "      <td>repibliye</td>\n",
              "      <td>r-e-p-i-b-l-i-y-e</td>\n",
              "    </tr>\n",
              "    <tr>\n",
              "      <th>...</th>\n",
              "      <td>...</td>\n",
              "      <td>...</td>\n",
              "    </tr>\n",
              "    <tr>\n",
              "      <th>12807</th>\n",
              "      <td>Remi</td>\n",
              "      <td>R-e-m-i</td>\n",
              "    </tr>\n",
              "    <tr>\n",
              "      <th>12808</th>\n",
              "      <td>diskriminatwa</td>\n",
              "      <td>d-i-s-k-r-i-m-i-n-a-t-w-a</td>\n",
              "    </tr>\n",
              "    <tr>\n",
              "      <th>12809</th>\n",
              "      <td>rejè</td>\n",
              "      <td>r-e-j-è</td>\n",
              "    </tr>\n",
              "    <tr>\n",
              "      <th>12810</th>\n",
              "      <td>manzè</td>\n",
              "      <td>m-an-z-è</td>\n",
              "    </tr>\n",
              "    <tr>\n",
              "      <th>12811</th>\n",
              "      <td>trimès</td>\n",
              "      <td>t-r-i-m-è-s</td>\n",
              "    </tr>\n",
              "  </tbody>\n",
              "</table>\n",
              "<p>12812 rows × 2 columns</p>\n",
              "</div>\n",
              "      <button class=\"colab-df-convert\" onclick=\"convertToInteractive('df-28bbc983-9c61-4bd0-8ebf-658d8ab5a468')\"\n",
              "              title=\"Convert this dataframe to an interactive table.\"\n",
              "              style=\"display:none;\">\n",
              "        \n",
              "  <svg xmlns=\"http://www.w3.org/2000/svg\" height=\"24px\"viewBox=\"0 0 24 24\"\n",
              "       width=\"24px\">\n",
              "    <path d=\"M0 0h24v24H0V0z\" fill=\"none\"/>\n",
              "    <path d=\"M18.56 5.44l.94 2.06.94-2.06 2.06-.94-2.06-.94-.94-2.06-.94 2.06-2.06.94zm-11 1L8.5 8.5l.94-2.06 2.06-.94-2.06-.94L8.5 2.5l-.94 2.06-2.06.94zm10 10l.94 2.06.94-2.06 2.06-.94-2.06-.94-.94-2.06-.94 2.06-2.06.94z\"/><path d=\"M17.41 7.96l-1.37-1.37c-.4-.4-.92-.59-1.43-.59-.52 0-1.04.2-1.43.59L10.3 9.45l-7.72 7.72c-.78.78-.78 2.05 0 2.83L4 21.41c.39.39.9.59 1.41.59.51 0 1.02-.2 1.41-.59l7.78-7.78 2.81-2.81c.8-.78.8-2.07 0-2.86zM5.41 20L4 18.59l7.72-7.72 1.47 1.35L5.41 20z\"/>\n",
              "  </svg>\n",
              "      </button>\n",
              "      \n",
              "  <style>\n",
              "    .colab-df-container {\n",
              "      display:flex;\n",
              "      flex-wrap:wrap;\n",
              "      gap: 12px;\n",
              "    }\n",
              "\n",
              "    .colab-df-convert {\n",
              "      background-color: #E8F0FE;\n",
              "      border: none;\n",
              "      border-radius: 50%;\n",
              "      cursor: pointer;\n",
              "      display: none;\n",
              "      fill: #1967D2;\n",
              "      height: 32px;\n",
              "      padding: 0 0 0 0;\n",
              "      width: 32px;\n",
              "    }\n",
              "\n",
              "    .colab-df-convert:hover {\n",
              "      background-color: #E2EBFA;\n",
              "      box-shadow: 0px 1px 2px rgba(60, 64, 67, 0.3), 0px 1px 3px 1px rgba(60, 64, 67, 0.15);\n",
              "      fill: #174EA6;\n",
              "    }\n",
              "\n",
              "    [theme=dark] .colab-df-convert {\n",
              "      background-color: #3B4455;\n",
              "      fill: #D2E3FC;\n",
              "    }\n",
              "\n",
              "    [theme=dark] .colab-df-convert:hover {\n",
              "      background-color: #434B5C;\n",
              "      box-shadow: 0px 1px 3px 1px rgba(0, 0, 0, 0.15);\n",
              "      filter: drop-shadow(0px 1px 2px rgba(0, 0, 0, 0.3));\n",
              "      fill: #FFFFFF;\n",
              "    }\n",
              "  </style>\n",
              "\n",
              "      <script>\n",
              "        const buttonEl =\n",
              "          document.querySelector('#df-28bbc983-9c61-4bd0-8ebf-658d8ab5a468 button.colab-df-convert');\n",
              "        buttonEl.style.display =\n",
              "          google.colab.kernel.accessAllowed ? 'block' : 'none';\n",
              "\n",
              "        async function convertToInteractive(key) {\n",
              "          const element = document.querySelector('#df-28bbc983-9c61-4bd0-8ebf-658d8ab5a468');\n",
              "          const dataTable =\n",
              "            await google.colab.kernel.invokeFunction('convertToInteractive',\n",
              "                                                     [key], {});\n",
              "          if (!dataTable) return;\n",
              "\n",
              "          const docLinkHtml = 'Like what you see? Visit the ' +\n",
              "            '<a target=\"_blank\" href=https://colab.research.google.com/notebooks/data_table.ipynb>data table notebook</a>'\n",
              "            + ' to learn more about interactive tables.';\n",
              "          element.innerHTML = '';\n",
              "          dataTable['output_type'] = 'display_data';\n",
              "          await google.colab.output.renderOutput(dataTable, element);\n",
              "          const docLink = document.createElement('div');\n",
              "          docLink.innerHTML = docLinkHtml;\n",
              "          element.appendChild(docLink);\n",
              "        }\n",
              "      </script>\n",
              "    </div>\n",
              "  </div>\n",
              "  "
            ]
          },
          "metadata": {},
          "execution_count": 1
        }
      ],
      "source": [
        "import pandas as pd\n",
        "data = pd.read_csv('/content/train.tsv', sep = '\\t',header= None)\n",
        "data.columns = ['words','segmentation']\n",
        "data "
      ]
    },
    {
      "cell_type": "code",
      "source": [
        "#data['segmentation'] = data['segmentation'].str.replace('-','  ')\n",
        "#data['segmentation'] = data['segmentation'].str.lower()"
      ],
      "metadata": {
        "id": "M-zTUhDpHTdU"
      },
      "execution_count": null,
      "outputs": []
    },
    {
      "cell_type": "code",
      "source": [
        "data_list_division = data['segmentation'].to_list()\n",
        "res = []\n",
        "for word_division in data_list_division:\n",
        "  split_word = word_division.split('-')\n",
        "  temp = []\n",
        "  for letter in split_word:\n",
        "    temp.append((letter[0], 'B'))\n",
        "    if len(letter) > 1:\n",
        "      for item in letter[1:]:\n",
        "        temp.append((item, 'I'))\n",
        "  res.append(temp)"
      ],
      "metadata": {
        "id": "51kesTA_HWVi"
      },
      "execution_count": null,
      "outputs": []
    },
    {
      "cell_type": "code",
      "source": [
        "vocab = list(set([w for sent in res for (w,t) in sent]))\n",
        "vocab.append('<PAD>')\n",
        "print(len(vocab))\n",
        "tags = list(set([t for sent in res for (w,t) in sent]))\n",
        "tags.append('<PAD>')\n",
        "print(tags)\n",
        "print(res[0]) "
      ],
      "metadata": {
        "colab": {
          "base_uri": "https://localhost:8080/"
        },
        "id": "GyEHQyUNHaKa",
        "outputId": "d601ade7-9c7a-407f-ab42-e3393da959e5"
      },
      "execution_count": null,
      "outputs": [
        {
          "output_type": "stream",
          "name": "stdout",
          "text": [
            "52\n",
            "['I', 'B', '<PAD>']\n",
            "[('k', 'B'), ('o', 'B'), ('n', 'I'), ('s', 'B'), ('i', 'B'), ('l', 'B'), ('t', 'B'), ('a', 'B'), ('n', 'I')]\n"
          ]
        }
      ]
    },
    {
      "cell_type": "code",
      "source": [
        "max_len = 0\n",
        "for i in res:\n",
        "  if max_len < len(i):\n",
        "      max_len = len(i)\n",
        "\n",
        "max_len"
      ],
      "metadata": {
        "colab": {
          "base_uri": "https://localhost:8080/"
        },
        "id": "K4gtpqbZyBdz",
        "outputId": "9a33d00c-c0f5-4e6f-e60f-f8d3ab2bc375"
      },
      "execution_count": null,
      "outputs": [
        {
          "output_type": "execute_result",
          "data": {
            "text/plain": [
              "18"
            ]
          },
          "metadata": {},
          "execution_count": 5
        }
      ]
    },
    {
      "cell_type": "code",
      "source": [
        "import pandas as pd\n",
        "from tensorflow.keras.models import Sequential\n",
        "from tensorflow.keras.layers import LSTM, Embedding, Dense, TimeDistributed, Dropout, Bidirectional \n",
        "from sklearn.model_selection import train_test_split\n",
        "from tensorflow.keras.preprocessing.sequence import pad_sequences\n",
        "from tensorflow.keras.utils import to_categorical\n",
        "import tensorflow as tf\n",
        "import numpy as np"
      ],
      "metadata": {
        "id": "nA_riEgyHjtG"
      },
      "execution_count": null,
      "outputs": []
    },
    {
      "cell_type": "code",
      "source": [
        "word2index = {w: i for i, w in enumerate(vocab)}\n",
        "tag2index = {t: i for i, t in enumerate(tags)}\n",
        "onehot = [[word2index[w[0]] for w in s] for s in res]\n",
        "x = pad_sequences(maxlen=max_len, sequences=onehot, padding=\"post\", value=len(vocab)-1)"
      ],
      "metadata": {
        "id": "QGLTN2GjHojH"
      },
      "execution_count": null,
      "outputs": []
    },
    {
      "cell_type": "code",
      "source": [
        "word2index"
      ],
      "metadata": {
        "colab": {
          "base_uri": "https://localhost:8080/"
        },
        "id": "ptirJKkp_Zrw",
        "outputId": "49b82c3f-7f35-4659-aed4-e4ab22f0c298"
      },
      "execution_count": null,
      "outputs": [
        {
          "output_type": "execute_result",
          "data": {
            "text/plain": [
              "{'a': 0,\n",
              " 'e': 1,\n",
              " 'z': 2,\n",
              " 'C': 3,\n",
              " 'è': 4,\n",
              " 't': 5,\n",
              " 'k': 6,\n",
              " 'Z': 7,\n",
              " 'E': 8,\n",
              " 'g': 9,\n",
              " 'y': 10,\n",
              " 'F': 11,\n",
              " 'D': 12,\n",
              " 'S': 13,\n",
              " 'G': 14,\n",
              " 'V': 15,\n",
              " 'à': 16,\n",
              " 'B': 17,\n",
              " 'J': 18,\n",
              " 'I': 19,\n",
              " 'n': 20,\n",
              " 'd': 21,\n",
              " 'Ò': 22,\n",
              " 'Y': 23,\n",
              " 'c': 24,\n",
              " 'O': 25,\n",
              " 'L': 26,\n",
              " 'i': 27,\n",
              " 'w': 28,\n",
              " 'j': 29,\n",
              " 'v': 30,\n",
              " 'T': 31,\n",
              " 'N': 32,\n",
              " 'u': 33,\n",
              " 'p': 34,\n",
              " 's': 35,\n",
              " 'h': 36,\n",
              " 'R': 37,\n",
              " 'È': 38,\n",
              " 'r': 39,\n",
              " 'l': 40,\n",
              " 'M': 41,\n",
              " 'm': 42,\n",
              " 'K': 43,\n",
              " 'W': 44,\n",
              " 'A': 45,\n",
              " 'ò': 46,\n",
              " 'P': 47,\n",
              " 'o': 48,\n",
              " 'b': 49,\n",
              " 'f': 50,\n",
              " '<PAD>': 51}"
            ]
          },
          "metadata": {},
          "execution_count": 8
        }
      ]
    },
    {
      "cell_type": "code",
      "source": [
        "onehot_y = [[tag2index[w[1]] for w in s] for s in res]\n",
        "y = pad_sequences(maxlen=max_len, sequences=onehot_y, padding=\"post\", value=tag2index[\"<PAD>\"])\n",
        "y = [to_categorical(i, num_classes=len(tags)) for i in y]\n",
        "y = np.asarray(y)"
      ],
      "metadata": {
        "id": "wL1GfAJNHlja"
      },
      "execution_count": null,
      "outputs": []
    },
    {
      "cell_type": "code",
      "source": [
        "x_train,x_test,y_train,y_test = train_test_split(x,y,test_size=0.1, random_state=41)"
      ],
      "metadata": {
        "id": "YOfSGf2uHnLm"
      },
      "execution_count": null,
      "outputs": []
    },
    {
      "cell_type": "code",
      "source": [
        "#LSTM model using keras library\n",
        "\n",
        "model = Sequential()\n",
        "model.add(tf.keras.Input(shape=(x_train.shape[-1]), name=\"word_input\"))\n",
        "model.add(Embedding(input_dim = len(vocab), output_dim=10,input_length=max_len))\n",
        "\n",
        "model.add((LSTM(256, return_sequences=True)))\n",
        "model.add(Dense(64, activation='relu'))\n",
        "model.add(Dropout(0.3))\n",
        "model.add(tf.keras.layers.TimeDistributed(Dense(len(tags),activation='softmax')))\n",
        "\n",
        "model.compile(optimizer = 'adam', loss = 'categorical_crossentropy',metrics = ['accuracy'])\n",
        "model.summary()"
      ],
      "metadata": {
        "colab": {
          "base_uri": "https://localhost:8080/"
        },
        "id": "KbVvg1SIHtrE",
        "outputId": "13840493-c7c4-4386-cd50-7f8d14a632fc"
      },
      "execution_count": null,
      "outputs": [
        {
          "output_type": "stream",
          "name": "stdout",
          "text": [
            "Model: \"sequential\"\n",
            "_________________________________________________________________\n",
            " Layer (type)                Output Shape              Param #   \n",
            "=================================================================\n",
            " embedding (Embedding)       (None, 18, 10)            520       \n",
            "                                                                 \n",
            " lstm (LSTM)                 (None, 18, 256)           273408    \n",
            "                                                                 \n",
            " dense (Dense)               (None, 18, 64)            16448     \n",
            "                                                                 \n",
            " dropout (Dropout)           (None, 18, 64)            0         \n",
            "                                                                 \n",
            " time_distributed (TimeDistr  (None, 18, 3)            195       \n",
            " ibuted)                                                         \n",
            "                                                                 \n",
            "=================================================================\n",
            "Total params: 290,571\n",
            "Trainable params: 290,571\n",
            "Non-trainable params: 0\n",
            "_________________________________________________________________\n"
          ]
        }
      ]
    },
    {
      "cell_type": "code",
      "source": [
        "history = model.fit(x_train, y_train, batch_size=16, epochs=2, validation_split=0.1)"
      ],
      "metadata": {
        "colab": {
          "base_uri": "https://localhost:8080/"
        },
        "id": "ByuHkBJIHwDq",
        "outputId": "ec2023fc-3611-4159-deb4-7315817e937a"
      },
      "execution_count": null,
      "outputs": [
        {
          "output_type": "stream",
          "name": "stdout",
          "text": [
            "Epoch 1/2\n",
            "649/649 [==============================] - 45s 62ms/step - loss: 0.1106 - accuracy: 0.9639 - val_loss: 0.0167 - val_accuracy: 0.9953\n",
            "Epoch 2/2\n",
            "649/649 [==============================] - 42s 65ms/step - loss: 0.0154 - accuracy: 0.9955 - val_loss: 0.0144 - val_accuracy: 0.9953\n"
          ]
        }
      ]
    },
    {
      "cell_type": "code",
      "source": [
        "model.evaluate(x_test,y_test)"
      ],
      "metadata": {
        "colab": {
          "base_uri": "https://localhost:8080/"
        },
        "id": "FJZRb3AgHztH",
        "outputId": "1ba1910e-01e4-4f7f-f19f-8d92fbc413b1"
      },
      "execution_count": null,
      "outputs": [
        {
          "output_type": "stream",
          "name": "stdout",
          "text": [
            "41/41 [==============================] - 2s 38ms/step - loss: 0.0135 - accuracy: 0.9960\n"
          ]
        },
        {
          "output_type": "execute_result",
          "data": {
            "text/plain": [
              "[0.013478398323059082, 0.995969831943512]"
            ]
          },
          "metadata": {},
          "execution_count": 13
        }
      ]
    },
    {
      "cell_type": "code",
      "source": [
        "y_true, y_pred = [], []\n",
        "for i in range(len(x_test)):\n",
        "  pred = model.predict(np.array([x_test[i]]))\n",
        "  p = np.argmax(pred, axis=-1)\n",
        "  p_actual = np.argmax(y_test[i],axis=-1)\n",
        "  for i in range(len(p_actual)):\n",
        "    if p_actual[i] == 2: break\n",
        "    y_true.append(p_actual[i])\n",
        "    y_pred.append(p[0][i])"
      ],
      "metadata": {
        "id": "KG2X9mtSH86D"
      },
      "execution_count": null,
      "outputs": []
    },
    {
      "cell_type": "code",
      "source": [
        "pred = model.predict(np.array([x_test[5]]))\n",
        "p = np.argmax(pred,axis=-1)\n",
        "p_actual = np.argmax(y_test[5],axis=-1)\n",
        "print(p)\n",
        "print(p_actual)"
      ],
      "metadata": {
        "colab": {
          "base_uri": "https://localhost:8080/"
        },
        "id": "wcv0_2GEmE45",
        "outputId": "c5c517b2-9176-4da3-e61e-c0af9afca9ea"
      },
      "execution_count": null,
      "outputs": [
        {
          "output_type": "stream",
          "name": "stdout",
          "text": [
            "[[1 0 1 1 1 1 0 1 2 2 2 2 2 2 2 2 2 2]]\n",
            "[1 0 1 1 1 1 0 1 2 2 2 2 2 2 2 2 2 2]\n"
          ]
        }
      ]
    },
    {
      "cell_type": "code",
      "source": [
        "from sklearn.metrics import accuracy_score\n",
        "accuracy_score(y_true,y_pred)"
      ],
      "metadata": {
        "colab": {
          "base_uri": "https://localhost:8080/"
        },
        "id": "mZr-c0pGH_Bl",
        "outputId": "5a182f60-98aa-4a73-d177-85730171959a"
      },
      "execution_count": null,
      "outputs": [
        {
          "output_type": "execute_result",
          "data": {
            "text/plain": [
              "0.9893324156916724"
            ]
          },
          "metadata": {},
          "execution_count": 16
        }
      ]
    },
    {
      "cell_type": "code",
      "source": [
        "from sklearn.metrics import precision_recall_fscore_support\n",
        "precision_recall_fscore_support(y_true, y_pred, average=None, labels=[0, 1, 2])"
      ],
      "metadata": {
        "colab": {
          "base_uri": "https://localhost:8080/"
        },
        "id": "6O2a6KJoICD8",
        "outputId": "257fbcfa-5e71-46e7-b697-f52f05d4dc5c"
      },
      "execution_count": null,
      "outputs": [
        {
          "output_type": "stream",
          "name": "stderr",
          "text": [
            "/usr/local/lib/python3.7/dist-packages/sklearn/metrics/_classification.py:1318: UndefinedMetricWarning: Precision and F-score are ill-defined and being set to 0.0 in labels with no predicted samples. Use `zero_division` parameter to control this behavior.\n",
            "  _warn_prf(average, modifier, msg_start, len(result))\n",
            "/usr/local/lib/python3.7/dist-packages/sklearn/metrics/_classification.py:1318: UndefinedMetricWarning: Recall and F-score are ill-defined and being set to 0.0 in labels with no true samples. Use `zero_division` parameter to control this behavior.\n",
            "  _warn_prf(average, modifier, msg_start, len(result))\n"
          ]
        },
        {
          "output_type": "execute_result",
          "data": {
            "text/plain": [
              "(array([0.90568182, 0.99872416, 0.        ]),\n",
              " array([0.98760843, 0.98950828, 0.        ]),\n",
              " array([0.94487255, 0.99409486, 0.        ]),\n",
              " array([ 807, 7911,    0]))"
            ]
          },
          "metadata": {},
          "execution_count": 17
        }
      ]
    },
    {
      "cell_type": "code",
      "source": [
        "def data_preprocess_pipeline(X, all_words):\n",
        "  onehot = [[word2index[w[0]] for w in s] for s in all_words]\n",
        "  X_pad = pad_sequences(maxlen=max_len, sequences=onehot, padding=\"post\", value=len(vocab)-1)\n",
        "  return X_pad"
      ],
      "metadata": {
        "id": "_Lf971CS-YsZ"
      },
      "execution_count": null,
      "outputs": []
    },
    {
      "cell_type": "code",
      "source": [
        "def predict_tags(word):\n",
        "  pred = model.predict(np.array([word]))\n",
        "  p = np.argmax(pred, axis=-1)\n",
        "  return p[0]"
      ],
      "metadata": {
        "id": "zvQZPjON-Yuq"
      },
      "execution_count": null,
      "outputs": []
    },
    {
      "cell_type": "code",
      "source": [
        "def get_graphene(word, processed_word):\n",
        "  b_i_tags = predict_tags(processed_word)\n",
        "  ans = [word[0]]\n",
        "  for i in range(1, len(word)):\n",
        "    if b_i_tags[i] == 1: ans.append('-')\n",
        "    ans.append(word[i])\n",
        "  return \"\".join(ans)"
      ],
      "metadata": {
        "id": "9U9eg8Ya-Ywv"
      },
      "execution_count": null,
      "outputs": []
    },
    {
      "cell_type": "code",
      "source": [
        "def get_all_graphenes(file):\n",
        "  test_data = []\n",
        "  all_graphenes = []\n",
        "  words = []\n",
        "  all_letters = []\n",
        "  test_file = open(file, 'r')\n",
        "  for line in test_file:\n",
        "    word = line.rstrip(\"\\n\")\n",
        "    test_data.append(word)\n",
        "    words.append(word)\n",
        "    temp = []\n",
        "    for letter in word:\n",
        "      temp.append(letter)\n",
        "    all_letters.append(temp)\n",
        "  test_data = data_preprocess_pipeline(test_data, all_letters)\n",
        "  for i in range(len(test_data)):\n",
        "    all_graphenes.append([words[i], get_graphene(words[i], test_data[i])])\n",
        "  return all_graphenes"
      ],
      "metadata": {
        "id": "ZqIexhwT-YzA"
      },
      "execution_count": null,
      "outputs": []
    },
    {
      "cell_type": "code",
      "source": [
        "ans = get_all_graphenes('/content/test.txt')"
      ],
      "metadata": {
        "id": "oQgUy8Mi-Y1Q"
      },
      "execution_count": null,
      "outputs": []
    },
    {
      "cell_type": "code",
      "source": [
        "import csv\n",
        "\n",
        "with open('super_BiLSTM.tsv', 'wt') as out_file:\n",
        "    tsv_writer = csv.writer(out_file, delimiter='\\t')\n",
        "    for graphene in ans:\n",
        "      tsv_writer.writerow(graphene)"
      ],
      "metadata": {
        "id": "5i2PfzOB-Y33"
      },
      "execution_count": null,
      "outputs": []
    },
    {
      "cell_type": "code",
      "source": [
        "def verify_results(file, num_of_lines):\n",
        "  test_file = open(file, 'r')\n",
        "  total = 0\n",
        "  for line in test_file:\n",
        "    total += 1\n",
        "  return total == num_of_lines"
      ],
      "metadata": {
        "id": "stpRV9s1-Y56"
      },
      "execution_count": null,
      "outputs": []
    },
    {
      "cell_type": "code",
      "source": [
        "verify_results('super_BiLSTM.tsv', len(ans))"
      ],
      "metadata": {
        "colab": {
          "base_uri": "https://localhost:8080/"
        },
        "id": "bSjsL6Ut-Y8Q",
        "outputId": "ec7b013a-ae5a-46dd-fe9c-c4b8f4ffe498"
      },
      "execution_count": null,
      "outputs": [
        {
          "output_type": "execute_result",
          "data": {
            "text/plain": [
              "True"
            ]
          },
          "metadata": {},
          "execution_count": 31
        }
      ]
    }
  ]
}