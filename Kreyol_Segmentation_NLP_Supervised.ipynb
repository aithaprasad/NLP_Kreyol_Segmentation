{
  "nbformat": 4,
  "nbformat_minor": 0,
  "metadata": {
    "colab": {
      "provenance": [],
      "collapsed_sections": [],
      "authorship_tag": "ABX9TyMJHj3N55Nvj5oXBRWcSM5m",
      "include_colab_link": true
    },
    "kernelspec": {
      "name": "python3",
      "display_name": "Python 3"
    },
    "language_info": {
      "name": "python"
    }
  },
  "cells": [
    {
      "cell_type": "markdown",
      "metadata": {
        "id": "view-in-github",
        "colab_type": "text"
      },
      "source": [
        "<a href=\"https://colab.research.google.com/github/aithaprasad/NLP_Kreyol_Segmentation/blob/main/Kreyol_Segmentation_NLP_Supervised.ipynb\" target=\"_parent\"><img src=\"https://colab.research.google.com/assets/colab-badge.svg\" alt=\"Open In Colab\"/></a>"
      ]
    },
    {
      "cell_type": "code",
      "execution_count": 1,
      "metadata": {
        "id": "vN8l4JMwTbMT"
      },
      "outputs": [],
      "source": [
        "import pandas as pd\n",
        "from tensorflow.keras.models import Sequential\n",
        "from tensorflow.keras.layers import LSTM, Embedding, Dense, TimeDistributed, Dropout, Bidirectional \n",
        "from sklearn.model_selection import train_test_split\n",
        "from tensorflow.keras.preprocessing.sequence import pad_sequences\n",
        "from tensorflow.keras.utils import to_categorical\n",
        "import tensorflow as tf\n",
        "import numpy as np"
      ]
    },
    {
      "cell_type": "code",
      "source": [
        "data = pd.read_csv(\"kreyol_segmentation_train.tsv\",delimiter=\"\\t\",on_bad_lines='skip')"
      ],
      "metadata": {
        "id": "nxmozghxT6kP"
      },
      "execution_count": 2,
      "outputs": []
    },
    {
      "cell_type": "code",
      "source": [
        "data.columns=['word','division']"
      ],
      "metadata": {
        "id": "Rdw7RoxpUBsn"
      },
      "execution_count": 3,
      "outputs": []
    },
    {
      "cell_type": "code",
      "source": [
        "data[0:5]['word']"
      ],
      "metadata": {
        "colab": {
          "base_uri": "https://localhost:8080/"
        },
        "id": "2Mmed1MdUZEN",
        "outputId": "06afd34b-c35a-4827-bc8e-ecd73da8221a"
      },
      "execution_count": 4,
      "outputs": [
        {
          "output_type": "execute_result",
          "data": {
            "text/plain": [
              "0             depotwa\n",
              "1    sosyopwofesyonèl\n",
              "2             vejetal\n",
              "3           repibliye\n",
              "4               mason\n",
              "Name: word, dtype: object"
            ]
          },
          "metadata": {},
          "execution_count": 4
        }
      ]
    },
    {
      "cell_type": "code",
      "source": [
        "data[0:5]['division']"
      ],
      "metadata": {
        "colab": {
          "base_uri": "https://localhost:8080/"
        },
        "id": "Zu14zqKNWWK6",
        "outputId": "ba1354f8-00c7-4f26-f1b0-221c7aa5ae2e"
      },
      "execution_count": 5,
      "outputs": [
        {
          "output_type": "execute_result",
          "data": {
            "text/plain": [
              "0                      d-e-p-o-t-w-a\n",
              "1    s-o-s-y-o-p-w-o-f-e-s-y-o-n-è-l\n",
              "2                      v-e-j-e-t-a-l\n",
              "3                  r-e-p-i-b-l-i-y-e\n",
              "4                           m-a-s-on\n",
              "Name: division, dtype: object"
            ]
          },
          "metadata": {},
          "execution_count": 5
        }
      ]
    },
    {
      "cell_type": "code",
      "source": [
        "data.shape"
      ],
      "metadata": {
        "colab": {
          "base_uri": "https://localhost:8080/"
        },
        "id": "OwxxmZzUWZTs",
        "outputId": "f2fb8525-d9b3-4257-b8e3-26a294ddd62c"
      },
      "execution_count": 6,
      "outputs": [
        {
          "output_type": "execute_result",
          "data": {
            "text/plain": [
              "(12811, 2)"
            ]
          },
          "metadata": {},
          "execution_count": 6
        }
      ]
    },
    {
      "cell_type": "code",
      "source": [
        "data_list_word = data['word'].to_list()"
      ],
      "metadata": {
        "id": "GBY9-AQ0WyAK"
      },
      "execution_count": 7,
      "outputs": []
    },
    {
      "cell_type": "code",
      "source": [
        "data_list_division = data['division'].to_list()"
      ],
      "metadata": {
        "id": "bCGPeE_bXOtp"
      },
      "execution_count": 8,
      "outputs": []
    },
    {
      "cell_type": "code",
      "source": [
        "assert len(data_list_word) == len(data_list_division) == 12811"
      ],
      "metadata": {
        "id": "-Q-okfKtXTTH"
      },
      "execution_count": 9,
      "outputs": []
    },
    {
      "cell_type": "code",
      "source": [
        "res = []\n",
        "for word_division in data_list_division:\n",
        "  split_word = word_division.split('-')\n",
        "  temp = []\n",
        "  for letter in split_word:\n",
        "    temp.append((letter[0], 'B'))\n",
        "    if len(letter) > 1:\n",
        "      for item in letter[1:]:\n",
        "        temp.append((item, 'I'))\n",
        "  res.append(temp)"
      ],
      "metadata": {
        "id": "OjjR2TI0Wsna"
      },
      "execution_count": 10,
      "outputs": []
    },
    {
      "cell_type": "code",
      "source": [
        "vocab = list(set([w for sent in res for (w,t) in sent]))\n",
        "vocab.append('<PAD>')\n",
        "print(len(vocab))\n",
        "tags = list(set([t for sent in res for (w,t) in sent]))\n",
        "tags.append('<PAD>')\n",
        "print(tags)\n",
        "print(res[0]) "
      ],
      "metadata": {
        "colab": {
          "base_uri": "https://localhost:8080/"
        },
        "id": "q7h3GZkdaOY3",
        "outputId": "6a921e4c-5b2e-4e96-c900-13ab875524fc"
      },
      "execution_count": 11,
      "outputs": [
        {
          "output_type": "stream",
          "name": "stdout",
          "text": [
            "52\n",
            "['I', 'B', '<PAD>']\n",
            "[('d', 'B'), ('e', 'B'), ('p', 'B'), ('o', 'B'), ('t', 'B'), ('w', 'B'), ('a', 'B')]\n"
          ]
        }
      ]
    },
    {
      "cell_type": "code",
      "source": [
        "max_len = 0\n",
        "for lst in res:\n",
        "  max_len = max(max_len, len(lst))\n",
        "max_len"
      ],
      "metadata": {
        "colab": {
          "base_uri": "https://localhost:8080/"
        },
        "id": "KXHgrPHHdF7r",
        "outputId": "6f86f6e8-20fe-4757-9cf4-78e594b294b7"
      },
      "execution_count": 12,
      "outputs": [
        {
          "output_type": "execute_result",
          "data": {
            "text/plain": [
              "18"
            ]
          },
          "metadata": {},
          "execution_count": 12
        }
      ]
    },
    {
      "cell_type": "code",
      "source": [
        "word2index = {w: i for i, w in enumerate(vocab)}\n",
        "tag2index = {t: i for i, t in enumerate(tags)}\n",
        "onehot = [[word2index[w[0]] for w in s] for s in res]\n",
        "X = pad_sequences(maxlen=max_len, sequences=onehot, padding=\"post\", value=len(vocab)-1)"
      ],
      "metadata": {
        "id": "iHjlYp1OdHmR"
      },
      "execution_count": 13,
      "outputs": []
    },
    {
      "cell_type": "code",
      "source": [
        "onehot_y = [[tag2index[w[1]] for w in s] for s in res]\n",
        "y = pad_sequences(maxlen=max_len, sequences=onehot_y, padding=\"post\", value=tag2index[\"<PAD>\"])\n",
        "y = [to_categorical(i, num_classes=len(tags)) for i in y]"
      ],
      "metadata": {
        "id": "lIWoxTF8dNz1"
      },
      "execution_count": 14,
      "outputs": []
    },
    {
      "cell_type": "code",
      "source": [
        "y = np.asarray(y)"
      ],
      "metadata": {
        "id": "GQZT33XBfCqU"
      },
      "execution_count": 15,
      "outputs": []
    },
    {
      "cell_type": "code",
      "source": [
        "len(X)"
      ],
      "metadata": {
        "colab": {
          "base_uri": "https://localhost:8080/"
        },
        "id": "VQhONSFqlXQa",
        "outputId": "07df2e90-3aff-484d-ba7f-ad7490e84921"
      },
      "execution_count": 16,
      "outputs": [
        {
          "output_type": "execute_result",
          "data": {
            "text/plain": [
              "12811"
            ]
          },
          "metadata": {},
          "execution_count": 16
        }
      ]
    },
    {
      "cell_type": "code",
      "source": [
        "X_train, y_train, X_test, y_test = X[:11000], y[:11000], X[11000:], y[11000:]"
      ],
      "metadata": {
        "id": "XvXPBnxtlNkq"
      },
      "execution_count": 17,
      "outputs": []
    },
    {
      "cell_type": "code",
      "source": [
        "model = Sequential()\n",
        "model.add(Embedding(input_dim=len(vocab), output_dim=50, input_length=max_len))\n",
        "model.add(Bidirectional(LSTM(units=100, return_sequences=True, recurrent_dropout=0.1)))\n",
        "model.add(TimeDistributed(Dense(len(tags), activation=\"softmax\")))\n",
        "model.compile(optimizer=\"adam\", loss=\"categorical_crossentropy\", metrics=[\"accuracy\"])\n",
        "history = model.fit(X_train, y_train, batch_size=5, epochs=2, validation_split=0.1, verbose=1)"
      ],
      "metadata": {
        "colab": {
          "base_uri": "https://localhost:8080/"
        },
        "id": "DzpDaRuffIZf",
        "outputId": "75667c6e-314f-4be0-c838-b8bcf6fc8a34"
      },
      "execution_count": 18,
      "outputs": [
        {
          "output_type": "stream",
          "name": "stdout",
          "text": [
            "Epoch 1/2\n",
            "1980/1980 [==============================] - 94s 46ms/step - loss: 0.0358 - accuracy: 0.9886 - val_loss: 0.0026 - val_accuracy: 0.9995\n",
            "Epoch 2/2\n",
            "1980/1980 [==============================] - 89s 45ms/step - loss: 0.0025 - accuracy: 0.9993 - val_loss: 0.0019 - val_accuracy: 0.9994\n"
          ]
        }
      ]
    },
    {
      "cell_type": "code",
      "source": [
        "model.summary()"
      ],
      "metadata": {
        "colab": {
          "base_uri": "https://localhost:8080/"
        },
        "id": "dnDu-VmPXWv0",
        "outputId": "3c207981-65fb-4381-e4bb-ac58e98b0321"
      },
      "execution_count": 19,
      "outputs": [
        {
          "output_type": "stream",
          "name": "stdout",
          "text": [
            "Model: \"sequential\"\n",
            "_________________________________________________________________\n",
            " Layer (type)                Output Shape              Param #   \n",
            "=================================================================\n",
            " embedding (Embedding)       (None, 18, 50)            2600      \n",
            "                                                                 \n",
            " bidirectional (Bidirectiona  (None, 18, 200)          120800    \n",
            " l)                                                              \n",
            "                                                                 \n",
            " time_distributed (TimeDistr  (None, 18, 3)            603       \n",
            " ibuted)                                                         \n",
            "                                                                 \n",
            "=================================================================\n",
            "Total params: 124,003\n",
            "Trainable params: 124,003\n",
            "Non-trainable params: 0\n",
            "_________________________________________________________________\n"
          ]
        }
      ]
    },
    {
      "cell_type": "code",
      "source": [
        "test_sent = 3\n",
        "pred = model.predict(np.array([X_test[test_sent]]))\n",
        "#print(pred)\n",
        "p = np.argmax(pred, axis=-1)\n",
        "p_actual = np.argmax(y_test[test_sent],axis=-1)\n",
        "print(p[0])\n",
        "print(p_actual)"
      ],
      "metadata": {
        "colab": {
          "base_uri": "https://localhost:8080/"
        },
        "id": "zR7MdjtChQiU",
        "outputId": "a9099abc-b172-4c9e-c74d-162fd5ef360b"
      },
      "execution_count": 22,
      "outputs": [
        {
          "output_type": "stream",
          "name": "stdout",
          "text": [
            "[1 1 1 1 1 0 2 2 2 2 2 2 2 2 2 2 2 2]\n",
            "[1 1 1 1 1 0 2 2 2 2 2 2 2 2 2 2 2 2]\n"
          ]
        }
      ]
    },
    {
      "cell_type": "code",
      "source": [
        "y_true, y_pred = [], []\n",
        "for test_sent in range(len(X_test)):\n",
        "  pred = model.predict(np.array([X_test[test_sent]]))\n",
        "  p = np.argmax(pred, axis=-1)\n",
        "  p_actual = np.argmax(y_test[test_sent],axis=-1)\n",
        "  for i in range(len(p_actual)):\n",
        "    if p_actual[i] == 2: break\n",
        "    y_true.append(p_actual[i])\n",
        "    y_pred.append(p[0][i])"
      ],
      "metadata": {
        "id": "YZGOtRYEqqwE"
      },
      "execution_count": 23,
      "outputs": []
    },
    {
      "cell_type": "code",
      "source": [
        "from sklearn.metrics import f1_score\n",
        "f1_score(y_true, y_pred, average='weighted')"
      ],
      "metadata": {
        "colab": {
          "base_uri": "https://localhost:8080/"
        },
        "id": "vbWtq03wsRbc",
        "outputId": "ecc11f6e-9180-4635-e5da-25fecd85af2e"
      },
      "execution_count": 24,
      "outputs": [
        {
          "output_type": "execute_result",
          "data": {
            "text/plain": [
              "0.9984917536637214"
            ]
          },
          "metadata": {},
          "execution_count": 24
        }
      ]
    },
    {
      "cell_type": "code",
      "source": [
        "from sklearn.metrics import accuracy_score\n",
        "accuracy_score(y_true, y_pred)"
      ],
      "metadata": {
        "colab": {
          "base_uri": "https://localhost:8080/"
        },
        "id": "F4Of8pY6u_tk",
        "outputId": "a7a05950-3c05-400e-f6af-22067e06373b"
      },
      "execution_count": 25,
      "outputs": [
        {
          "output_type": "execute_result",
          "data": {
            "text/plain": [
              "0.9984901462174189"
            ]
          },
          "metadata": {},
          "execution_count": 25
        }
      ]
    },
    {
      "cell_type": "code",
      "source": [
        "from sklearn.metrics import precision_recall_fscore_support\n",
        "precision_recall_fscore_support(y_true, y_pred, average=None, labels=[0, 1, 2])"
      ],
      "metadata": {
        "id": "7odr2ekDxKIN",
        "colab": {
          "base_uri": "https://localhost:8080/"
        },
        "outputId": "6e02b36c-df79-46ca-e979-6dff4fe1a65f"
      },
      "execution_count": 26,
      "outputs": [
        {
          "output_type": "stream",
          "name": "stderr",
          "text": [
            "/usr/local/lib/python3.7/dist-packages/sklearn/metrics/_classification.py:1318: UndefinedMetricWarning: Precision and F-score are ill-defined and being set to 0.0 in labels with no predicted samples. Use `zero_division` parameter to control this behavior.\n",
            "  _warn_prf(average, modifier, msg_start, len(result))\n",
            "/usr/local/lib/python3.7/dist-packages/sklearn/metrics/_classification.py:1318: UndefinedMetricWarning: Recall and F-score are ill-defined and being set to 0.0 in labels with no true samples. Use `zero_division` parameter to control this behavior.\n",
            "  _warn_prf(average, modifier, msg_start, len(result))\n"
          ]
        },
        {
          "output_type": "execute_result",
          "data": {
            "text/plain": [
              "(array([0.98876404, 0.99939215, 0.        ]),\n",
              " array([0.99341486, 0.99895842, 0.        ]),\n",
              " array([0.991084  , 0.99917524, 0.        ]),\n",
              " array([ 1063, 11521,     0]))"
            ]
          },
          "metadata": {},
          "execution_count": 26
        }
      ]
    },
    {
      "cell_type": "code",
      "source": [],
      "metadata": {
        "id": "f72Mec5lfpPU"
      },
      "execution_count": null,
      "outputs": []
    }
  ]
}